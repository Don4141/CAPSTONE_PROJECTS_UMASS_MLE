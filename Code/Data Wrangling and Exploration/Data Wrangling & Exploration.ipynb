{
 "cells": [
  {
   "cell_type": "code",
   "execution_count": 1,
   "id": "e0476e2b",
   "metadata": {},
   "outputs": [],
   "source": [
    "from warnings import filterwarnings\n",
    "filterwarnings('ignore')"
   ]
  },
  {
   "cell_type": "code",
   "execution_count": 2,
   "id": "1a500613",
   "metadata": {},
   "outputs": [],
   "source": [
    "#Loading the necessary libraries-----------------------------------------------------------------------------------------\n",
    "import numpy as np\n",
    "import pandas as pd\n",
    "import matplotlib \n",
    "import matplotlib.pyplot as plt\n",
    "from matplotlib import rcParams\n",
    "import seaborn as sns\n",
    "from scipy.stats import mannwhitneyu\n",
    "import os\n",
    "#Turns on “inline plotting”, where plot graphics will appear in your notebook\n",
    "%matplotlib inline"
   ]
  },
  {
   "cell_type": "code",
   "execution_count": 3,
   "id": "15982c0e",
   "metadata": {},
   "outputs": [],
   "source": [
    "### loading the Data\n",
    "TrainBenign_df = pd.read_csv(\"../TrainBenign.csv\")\n",
    "TrainPathogenic_df = pd.read_csv(\"../TrainPathogenic.csv\")\n",
    "TestBenign_df = pd.read_csv(\"../TestBenign.csv\")\n",
    "TestPathogenic_df = pd.read_csv(\"../TestPathogenic.csv\")"
   ]
  },
  {
   "cell_type": "code",
   "execution_count": 4,
   "id": "557b7624",
   "metadata": {},
   "outputs": [
    {
     "name": "stdout",
     "output_type": "stream",
     "text": [
      "The number of rows in TrainBenign dataset is 10158\n",
      "The number of columns in TrainBenign dataset is 48\n"
     ]
    }
   ],
   "source": [
    "#Printing the number of rows and columns in train benign dataframe\n",
    "n_rows, n_col = TrainBenign_df.shape\n",
    "print(\"The number of rows in TrainBenign dataset is\", n_rows)\n",
    "print(\"The number of columns in TrainBenign dataset is\", n_col)"
   ]
  },
  {
   "cell_type": "code",
   "execution_count": 5,
   "id": "8629ffc2",
   "metadata": {},
   "outputs": [
    {
     "name": "stdout",
     "output_type": "stream",
     "text": [
      "The number of rows in TrainPathogenic dataset is 6547\n",
      "The number of columns in TrainPathogenic dataset is 48\n"
     ]
    }
   ],
   "source": [
    "#Printing the number of rows and columns in train pathogenic dataframe\n",
    "n_rows, n_col = TrainPathogenic_df.shape\n",
    "print(\"The number of rows in TrainPathogenic dataset is\", n_rows)\n",
    "print(\"The number of columns in TrainPathogenic dataset is\", n_col)"
   ]
  },
  {
   "cell_type": "code",
   "execution_count": 6,
   "id": "790b5f40",
   "metadata": {},
   "outputs": [
    {
     "name": "stdout",
     "output_type": "stream",
     "text": [
      "The number of rows in TestBenign dataset is 3010\n",
      "The number of columns in TestBenign dataset is 48\n"
     ]
    }
   ],
   "source": [
    "#Printing the number of rows and columns in test benign dataframe\n",
    "n_rows, n_col = TestBenign_df.shape\n",
    "print(\"The number of rows in TestBenign dataset is\", n_rows)\n",
    "print(\"The number of columns in TestBenign dataset is\", n_col)"
   ]
  },
  {
   "cell_type": "code",
   "execution_count": 7,
   "id": "508a391b",
   "metadata": {},
   "outputs": [
    {
     "name": "stdout",
     "output_type": "stream",
     "text": [
      "The number of rows in TestPathogenic dataset is 1335\n",
      "The number of columns in TestPathogenic dataset is 48\n"
     ]
    }
   ],
   "source": [
    "#Printing the number of rows and columns in test pathogenic dataframe\n",
    "n_rows, n_col = TestPathogenic_df.shape\n",
    "print(\"The number of rows in TestPathogenic dataset is\", n_rows)\n",
    "print(\"The number of columns in TestPathogenic dataset is\", n_col)"
   ]
  },
  {
   "cell_type": "code",
   "execution_count": 8,
   "id": "80e74bf0",
   "metadata": {},
   "outputs": [],
   "source": [
    "#A function to Compute the total number of empty rows in individual columns\n",
    "def detect_missn_vals_and_counts(df, missn_vals=[\"?\", \",\", \"N/A\", \"nan\", \"NaN\", \"null\"]):\n",
    "    missn_info = {}\n",
    "    for col in df.columns:\n",
    "        col_missn_counts = {}\n",
    "\n",
    "        temp_col = df[col].astype(str)\n",
    "        for val in missn_vals:\n",
    "            count = temp_col.apply(lambda x: x.strip() == val).sum()\n",
    "            if count > 0:\n",
    "                col_missn_counts[val] = count\n",
    "        if col_missn_counts:\n",
    "            missn_info[col] = col_missn_counts\n",
    "    return missn_info"
   ]
  },
  {
   "cell_type": "code",
   "execution_count": 9,
   "id": "01883dff",
   "metadata": {},
   "outputs": [
    {
     "name": "stdout",
     "output_type": "stream",
     "text": [
      "{'Mutation': {'nan': 1661}, 'dTotal_Energy': {'nan': 1661}, 'dBackbone_Hbond': {'nan': 1661}, 'dSidechain_Hbond': {'nan': 1661}, 'dVan_der_Waals': {'nan': 1661}, 'dElectrostatics': {'nan': 1661}, 'dSolvation_Polar': {'nan': 1661}, 'dSolvation_Hydrophobic': {'nan': 1661}, 'dVan_der_Waals_Clashes': {'nan': 1661}, 'dEntropy_Sidechain': {'nan': 1661}, 'dEntropy_Mainchain': {'nan': 1661}, 'dShort_Loop_Entropy': {'nan': 1661}, 'dMedium_Loop_Entropy': {'nan': 1661}, 'dCis_Bond': {'nan': 1661}, 'dTorsional_Clash': {'nan': 1661}, 'dBackbone_Clash': {'nan': 1661}, 'dHelix_Dipole': {'nan': 1661}, 'dWater_Bridge': {'nan': 1661}, 'dDisulfide': {'nan': 1661}, 'dElectrostatic_kon': {'nan': 1661}, 'dPartial_Covalent_Bonds': {'nan': 1661}, 'dIonization_Energy': {'nan': 1661}, 'dEntropy_Complex': {'nan': 1661}}\n"
     ]
    }
   ],
   "source": [
    "#Printing the total number of empty rows in each column in the train benign dataframe\n",
    "print(detect_missn_vals_and_counts(TrainBenign_df))"
   ]
  },
  {
   "cell_type": "code",
   "execution_count": 10,
   "id": "0c344ffb",
   "metadata": {},
   "outputs": [
    {
     "name": "stdout",
     "output_type": "stream",
     "text": [
      "{'Mutation': {'nan': 1583}, 'dTotal_Energy': {'nan': 1583}, 'dBackbone_Hbond': {'nan': 1583}, 'dSidechain_Hbond': {'nan': 1583}, 'dVan_der_Waals': {'nan': 1583}, 'dElectrostatics': {'nan': 1583}, 'dSolvation_Polar': {'nan': 1583}, 'dSolvation_Hydrophobic': {'nan': 1583}, 'dVan_der_Waals_Clashes': {'nan': 1583}, 'dEntropy_Sidechain': {'nan': 1583}, 'dEntropy_Mainchain': {'nan': 1583}, 'dShort_Loop_Entropy': {'nan': 1583}, 'dMedium_Loop_Entropy': {'nan': 1583}, 'dCis_Bond': {'nan': 1583}, 'dTorsional_Clash': {'nan': 1583}, 'dBackbone_Clash': {'nan': 1583}, 'dHelix_Dipole': {'nan': 1583}, 'dWater_Bridge': {'nan': 1583}, 'dDisulfide': {'nan': 1583}, 'dElectrostatic_kon': {'nan': 1583}, 'dPartial_Covalent_Bonds': {'nan': 1583}, 'dIonization_Energy': {'nan': 1583}, 'dEntropy_Complex': {'nan': 1583}}\n"
     ]
    }
   ],
   "source": [
    "#Printing the total number of empty rows in each column in the train pathogenic dataframe\n",
    "print(detect_missn_vals_and_counts(TrainPathogenic_df))"
   ]
  },
  {
   "cell_type": "code",
   "execution_count": 11,
   "id": "e265b148",
   "metadata": {},
   "outputs": [
    {
     "name": "stdout",
     "output_type": "stream",
     "text": [
      "{'Mutation': {'nan': 785}, 'dTotal_Energy': {'nan': 785}, 'dBackbone_Hbond': {'nan': 785}, 'dSidechain_Hbond': {'nan': 785}, 'dVan_der_Waals': {'nan': 785}, 'dElectrostatics': {'nan': 785}, 'dSolvation_Polar': {'nan': 785}, 'dSolvation_Hydrophobic': {'nan': 785}, 'dVan_der_Waals_Clashes': {'nan': 785}, 'dEntropy_Sidechain': {'nan': 785}, 'dEntropy_Mainchain': {'nan': 785}, 'dShort_Loop_Entropy': {'nan': 785}, 'dMedium_Loop_Entropy': {'nan': 785}, 'dCis_Bond': {'nan': 785}, 'dTorsional_Clash': {'nan': 785}, 'dBackbone_Clash': {'nan': 785}, 'dHelix_Dipole': {'nan': 785}, 'dWater_Bridge': {'nan': 785}, 'dDisulfide': {'nan': 785}, 'dElectrostatic_kon': {'nan': 785}, 'dPartial_Covalent_Bonds': {'nan': 785}, 'dIonization_Energy': {'nan': 785}, 'dEntropy_Complex': {'nan': 785}}\n"
     ]
    }
   ],
   "source": [
    "#Printing the total number of empty rows in each column in the test benign dataframe\n",
    "print(detect_missn_vals_and_counts(TestBenign_df))"
   ]
  },
  {
   "cell_type": "code",
   "execution_count": 12,
   "id": "98afae8e",
   "metadata": {},
   "outputs": [
    {
     "name": "stdout",
     "output_type": "stream",
     "text": [
      "{'Mutation': {'nan': 512}, 'dTotal_Energy': {'nan': 512}, 'dBackbone_Hbond': {'nan': 512}, 'dSidechain_Hbond': {'nan': 512}, 'dVan_der_Waals': {'nan': 512}, 'dElectrostatics': {'nan': 512}, 'dSolvation_Polar': {'nan': 512}, 'dSolvation_Hydrophobic': {'nan': 512}, 'dVan_der_Waals_Clashes': {'nan': 512}, 'dEntropy_Sidechain': {'nan': 512}, 'dEntropy_Mainchain': {'nan': 512}, 'dShort_Loop_Entropy': {'nan': 512}, 'dMedium_Loop_Entropy': {'nan': 512}, 'dCis_Bond': {'nan': 512}, 'dTorsional_Clash': {'nan': 512}, 'dBackbone_Clash': {'nan': 512}, 'dHelix_Dipole': {'nan': 512}, 'dWater_Bridge': {'nan': 512}, 'dDisulfide': {'nan': 512}, 'dElectrostatic_kon': {'nan': 512}, 'dPartial_Covalent_Bonds': {'nan': 512}, 'dIonization_Energy': {'nan': 512}, 'dEntropy_Complex': {'nan': 512}}\n"
     ]
    }
   ],
   "source": [
    "#Printing the total number of empty rows in each column in the test pathogenic dataframe\n",
    "print(detect_missn_vals_and_counts(TestPathogenic_df))"
   ]
  },
  {
   "cell_type": "code",
   "execution_count": 13,
   "id": "8f336143",
   "metadata": {},
   "outputs": [],
   "source": [
    "mTrainBenign_df = TrainBenign_df.dropna(how=\"any\")\n",
    "mTrainPathogenic_df = TrainPathogenic_df.dropna(how=\"any\")\n",
    "mTestBenign_df = TestBenign_df.dropna(how=\"any\")\n",
    "mTestPathogenic_df = TestPathogenic_df.dropna(how=\"any\")"
   ]
  },
  {
   "cell_type": "code",
   "execution_count": 14,
   "id": "80a36a46",
   "metadata": {},
   "outputs": [],
   "source": [
    "def unique_col_vals(df):\n",
    "    total = df.count()\n",
    "    temp = pd.DataFrame(total)\n",
    "    temp.columns = [\"Total\"]\n",
    "\n",
    "    uniq = []\n",
    "    for col in df.columns:\n",
    "        uniq_val = df[col].nunique()\n",
    "        uniq.append(uniq_val)\n",
    "\n",
    "    temp[\"Unique\"] = uniq\n",
    "    return(np.transpose(temp))"
   ]
  },
  {
   "cell_type": "code",
   "execution_count": 15,
   "id": "1a467b49",
   "metadata": {},
   "outputs": [
    {
     "data": {
      "text/html": [
       "<div>\n",
       "<style scoped>\n",
       "    .dataframe tbody tr th:only-of-type {\n",
       "        vertical-align: middle;\n",
       "    }\n",
       "\n",
       "    .dataframe tbody tr th {\n",
       "        vertical-align: top;\n",
       "    }\n",
       "\n",
       "    .dataframe thead th {\n",
       "        text-align: right;\n",
       "    }\n",
       "</style>\n",
       "<table border=\"1\" class=\"dataframe\">\n",
       "  <thead>\n",
       "    <tr style=\"text-align: right;\">\n",
       "      <th></th>\n",
       "      <th>Pdb</th>\n",
       "      <th>Total_energy</th>\n",
       "      <th>Backbone_Hbond</th>\n",
       "      <th>Sidechain_Hbond</th>\n",
       "      <th>Van_der_Waals</th>\n",
       "      <th>Electrostatics</th>\n",
       "      <th>Solvation_Polar</th>\n",
       "      <th>Solvation_Hydrophobic</th>\n",
       "      <th>Van_der_Waals_clashes</th>\n",
       "      <th>Entropy_sidechain</th>\n",
       "      <th>...</th>\n",
       "      <th>dCis_Bond</th>\n",
       "      <th>dTorsional_Clash</th>\n",
       "      <th>dBackbone_Clash</th>\n",
       "      <th>dHelix_Dipole</th>\n",
       "      <th>dWater_Bridge</th>\n",
       "      <th>dDisulfide</th>\n",
       "      <th>dElectrostatic_kon</th>\n",
       "      <th>dPartial_Covalent_Bonds</th>\n",
       "      <th>dIonization_Energy</th>\n",
       "      <th>dEntropy_Complex</th>\n",
       "    </tr>\n",
       "  </thead>\n",
       "  <tbody>\n",
       "    <tr>\n",
       "      <th>Total</th>\n",
       "      <td>4964</td>\n",
       "      <td>4964</td>\n",
       "      <td>4964</td>\n",
       "      <td>4964</td>\n",
       "      <td>4964</td>\n",
       "      <td>4964</td>\n",
       "      <td>4964</td>\n",
       "      <td>4964</td>\n",
       "      <td>4964</td>\n",
       "      <td>4964</td>\n",
       "      <td>...</td>\n",
       "      <td>4964</td>\n",
       "      <td>4964</td>\n",
       "      <td>4964</td>\n",
       "      <td>4964</td>\n",
       "      <td>4964</td>\n",
       "      <td>4964</td>\n",
       "      <td>4964</td>\n",
       "      <td>4964</td>\n",
       "      <td>4964</td>\n",
       "      <td>4964</td>\n",
       "    </tr>\n",
       "    <tr>\n",
       "      <th>Unique</th>\n",
       "      <td>4964</td>\n",
       "      <td>4862</td>\n",
       "      <td>4592</td>\n",
       "      <td>4488</td>\n",
       "      <td>4792</td>\n",
       "      <td>4441</td>\n",
       "      <td>4779</td>\n",
       "      <td>4833</td>\n",
       "      <td>4777</td>\n",
       "      <td>4870</td>\n",
       "      <td>...</td>\n",
       "      <td>102</td>\n",
       "      <td>3486</td>\n",
       "      <td>2131</td>\n",
       "      <td>2391</td>\n",
       "      <td>1</td>\n",
       "      <td>123</td>\n",
       "      <td>1</td>\n",
       "      <td>1</td>\n",
       "      <td>1009</td>\n",
       "      <td>1</td>\n",
       "    </tr>\n",
       "  </tbody>\n",
       "</table>\n",
       "<p>2 rows × 48 columns</p>\n",
       "</div>"
      ],
      "text/plain": [
       "         Pdb  Total_energy  Backbone_Hbond  Sidechain_Hbond  Van_der_Waals  \\\n",
       "Total   4964          4964            4964             4964           4964   \n",
       "Unique  4964          4862            4592             4488           4792   \n",
       "\n",
       "        Electrostatics  Solvation_Polar  Solvation_Hydrophobic  \\\n",
       "Total             4964             4964                   4964   \n",
       "Unique            4441             4779                   4833   \n",
       "\n",
       "        Van_der_Waals_clashes  Entropy_sidechain  ...  dCis_Bond  \\\n",
       "Total                    4964               4964  ...       4964   \n",
       "Unique                   4777               4870  ...        102   \n",
       "\n",
       "        dTorsional_Clash  dBackbone_Clash  dHelix_Dipole  dWater_Bridge  \\\n",
       "Total               4964             4964           4964           4964   \n",
       "Unique              3486             2131           2391              1   \n",
       "\n",
       "        dDisulfide  dElectrostatic_kon  dPartial_Covalent_Bonds  \\\n",
       "Total         4964                4964                     4964   \n",
       "Unique         123                   1                        1   \n",
       "\n",
       "        dIonization_Energy  dEntropy_Complex  \n",
       "Total                 4964              4964  \n",
       "Unique                1009                 1  \n",
       "\n",
       "[2 rows x 48 columns]"
      ]
     },
     "execution_count": 15,
     "metadata": {},
     "output_type": "execute_result"
    }
   ],
   "source": [
    "#Printing count of unique values in each column in the train pathogenic dataframe\n",
    "unique_col_vals(mTrainPathogenic_df)"
   ]
  },
  {
   "cell_type": "code",
   "execution_count": 16,
   "id": "34ba4a36",
   "metadata": {},
   "outputs": [
    {
     "data": {
      "text/html": [
       "<div>\n",
       "<style scoped>\n",
       "    .dataframe tbody tr th:only-of-type {\n",
       "        vertical-align: middle;\n",
       "    }\n",
       "\n",
       "    .dataframe tbody tr th {\n",
       "        vertical-align: top;\n",
       "    }\n",
       "\n",
       "    .dataframe thead th {\n",
       "        text-align: right;\n",
       "    }\n",
       "</style>\n",
       "<table border=\"1\" class=\"dataframe\">\n",
       "  <thead>\n",
       "    <tr style=\"text-align: right;\">\n",
       "      <th></th>\n",
       "      <th>Pdb</th>\n",
       "      <th>Total_energy</th>\n",
       "      <th>Backbone_Hbond</th>\n",
       "      <th>Sidechain_Hbond</th>\n",
       "      <th>Van_der_Waals</th>\n",
       "      <th>Electrostatics</th>\n",
       "      <th>Solvation_Polar</th>\n",
       "      <th>Solvation_Hydrophobic</th>\n",
       "      <th>Van_der_Waals_clashes</th>\n",
       "      <th>Entropy_sidechain</th>\n",
       "      <th>...</th>\n",
       "      <th>dCis_Bond</th>\n",
       "      <th>dTorsional_Clash</th>\n",
       "      <th>dBackbone_Clash</th>\n",
       "      <th>dHelix_Dipole</th>\n",
       "      <th>dWater_Bridge</th>\n",
       "      <th>dDisulfide</th>\n",
       "      <th>dElectrostatic_kon</th>\n",
       "      <th>dPartial_Covalent_Bonds</th>\n",
       "      <th>dIonization_Energy</th>\n",
       "      <th>dEntropy_Complex</th>\n",
       "    </tr>\n",
       "  </thead>\n",
       "  <tbody>\n",
       "    <tr>\n",
       "      <th>Total</th>\n",
       "      <td>8497</td>\n",
       "      <td>8497</td>\n",
       "      <td>8497</td>\n",
       "      <td>8497</td>\n",
       "      <td>8497</td>\n",
       "      <td>8497</td>\n",
       "      <td>8497</td>\n",
       "      <td>8497</td>\n",
       "      <td>8497</td>\n",
       "      <td>8497</td>\n",
       "      <td>...</td>\n",
       "      <td>8497</td>\n",
       "      <td>8497</td>\n",
       "      <td>8497</td>\n",
       "      <td>8497</td>\n",
       "      <td>8497</td>\n",
       "      <td>8497</td>\n",
       "      <td>8497</td>\n",
       "      <td>8497</td>\n",
       "      <td>8497</td>\n",
       "      <td>8497</td>\n",
       "    </tr>\n",
       "    <tr>\n",
       "      <th>Unique</th>\n",
       "      <td>8497</td>\n",
       "      <td>8312</td>\n",
       "      <td>6581</td>\n",
       "      <td>6414</td>\n",
       "      <td>8087</td>\n",
       "      <td>6383</td>\n",
       "      <td>8097</td>\n",
       "      <td>8155</td>\n",
       "      <td>7283</td>\n",
       "      <td>8336</td>\n",
       "      <td>...</td>\n",
       "      <td>960</td>\n",
       "      <td>3639</td>\n",
       "      <td>1494</td>\n",
       "      <td>2033</td>\n",
       "      <td>1</td>\n",
       "      <td>27</td>\n",
       "      <td>1</td>\n",
       "      <td>1</td>\n",
       "      <td>753</td>\n",
       "      <td>1</td>\n",
       "    </tr>\n",
       "  </tbody>\n",
       "</table>\n",
       "<p>2 rows × 48 columns</p>\n",
       "</div>"
      ],
      "text/plain": [
       "         Pdb  Total_energy  Backbone_Hbond  Sidechain_Hbond  Van_der_Waals  \\\n",
       "Total   8497          8497            8497             8497           8497   \n",
       "Unique  8497          8312            6581             6414           8087   \n",
       "\n",
       "        Electrostatics  Solvation_Polar  Solvation_Hydrophobic  \\\n",
       "Total             8497             8497                   8497   \n",
       "Unique            6383             8097                   8155   \n",
       "\n",
       "        Van_der_Waals_clashes  Entropy_sidechain  ...  dCis_Bond  \\\n",
       "Total                    8497               8497  ...       8497   \n",
       "Unique                   7283               8336  ...        960   \n",
       "\n",
       "        dTorsional_Clash  dBackbone_Clash  dHelix_Dipole  dWater_Bridge  \\\n",
       "Total               8497             8497           8497           8497   \n",
       "Unique              3639             1494           2033              1   \n",
       "\n",
       "        dDisulfide  dElectrostatic_kon  dPartial_Covalent_Bonds  \\\n",
       "Total         8497                8497                     8497   \n",
       "Unique          27                   1                        1   \n",
       "\n",
       "        dIonization_Energy  dEntropy_Complex  \n",
       "Total                 8497              8497  \n",
       "Unique                 753                 1  \n",
       "\n",
       "[2 rows x 48 columns]"
      ]
     },
     "execution_count": 16,
     "metadata": {},
     "output_type": "execute_result"
    }
   ],
   "source": [
    "#Printing count of unique values in each column in the train benign dataframe\n",
    "unique_col_vals(mTrainBenign_df)"
   ]
  },
  {
   "cell_type": "code",
   "execution_count": 17,
   "id": "e0cbb5fc",
   "metadata": {},
   "outputs": [
    {
     "data": {
      "text/html": [
       "<div>\n",
       "<style scoped>\n",
       "    .dataframe tbody tr th:only-of-type {\n",
       "        vertical-align: middle;\n",
       "    }\n",
       "\n",
       "    .dataframe tbody tr th {\n",
       "        vertical-align: top;\n",
       "    }\n",
       "\n",
       "    .dataframe thead th {\n",
       "        text-align: right;\n",
       "    }\n",
       "</style>\n",
       "<table border=\"1\" class=\"dataframe\">\n",
       "  <thead>\n",
       "    <tr style=\"text-align: right;\">\n",
       "      <th></th>\n",
       "      <th>Pdb</th>\n",
       "      <th>Total_energy</th>\n",
       "      <th>Backbone_Hbond</th>\n",
       "      <th>Sidechain_Hbond</th>\n",
       "      <th>Van_der_Waals</th>\n",
       "      <th>Electrostatics</th>\n",
       "      <th>Solvation_Polar</th>\n",
       "      <th>Solvation_Hydrophobic</th>\n",
       "      <th>Van_der_Waals_clashes</th>\n",
       "      <th>Entropy_sidechain</th>\n",
       "      <th>...</th>\n",
       "      <th>dCis_Bond</th>\n",
       "      <th>dTorsional_Clash</th>\n",
       "      <th>dBackbone_Clash</th>\n",
       "      <th>dHelix_Dipole</th>\n",
       "      <th>dWater_Bridge</th>\n",
       "      <th>dDisulfide</th>\n",
       "      <th>dElectrostatic_kon</th>\n",
       "      <th>dPartial_Covalent_Bonds</th>\n",
       "      <th>dIonization_Energy</th>\n",
       "      <th>dEntropy_Complex</th>\n",
       "    </tr>\n",
       "  </thead>\n",
       "  <tbody>\n",
       "    <tr>\n",
       "      <th>Total</th>\n",
       "      <td>823</td>\n",
       "      <td>823</td>\n",
       "      <td>823</td>\n",
       "      <td>823</td>\n",
       "      <td>823</td>\n",
       "      <td>823</td>\n",
       "      <td>823</td>\n",
       "      <td>823</td>\n",
       "      <td>823</td>\n",
       "      <td>823</td>\n",
       "      <td>...</td>\n",
       "      <td>823</td>\n",
       "      <td>823</td>\n",
       "      <td>823</td>\n",
       "      <td>823</td>\n",
       "      <td>823</td>\n",
       "      <td>823</td>\n",
       "      <td>823</td>\n",
       "      <td>823</td>\n",
       "      <td>823</td>\n",
       "      <td>823</td>\n",
       "    </tr>\n",
       "    <tr>\n",
       "      <th>Unique</th>\n",
       "      <td>823</td>\n",
       "      <td>821</td>\n",
       "      <td>802</td>\n",
       "      <td>781</td>\n",
       "      <td>814</td>\n",
       "      <td>779</td>\n",
       "      <td>817</td>\n",
       "      <td>815</td>\n",
       "      <td>810</td>\n",
       "      <td>821</td>\n",
       "      <td>...</td>\n",
       "      <td>6</td>\n",
       "      <td>704</td>\n",
       "      <td>583</td>\n",
       "      <td>478</td>\n",
       "      <td>1</td>\n",
       "      <td>13</td>\n",
       "      <td>1</td>\n",
       "      <td>1</td>\n",
       "      <td>194</td>\n",
       "      <td>1</td>\n",
       "    </tr>\n",
       "  </tbody>\n",
       "</table>\n",
       "<p>2 rows × 48 columns</p>\n",
       "</div>"
      ],
      "text/plain": [
       "        Pdb  Total_energy  Backbone_Hbond  Sidechain_Hbond  Van_der_Waals  \\\n",
       "Total   823           823             823              823            823   \n",
       "Unique  823           821             802              781            814   \n",
       "\n",
       "        Electrostatics  Solvation_Polar  Solvation_Hydrophobic  \\\n",
       "Total              823              823                    823   \n",
       "Unique             779              817                    815   \n",
       "\n",
       "        Van_der_Waals_clashes  Entropy_sidechain  ...  dCis_Bond  \\\n",
       "Total                     823                823  ...        823   \n",
       "Unique                    810                821  ...          6   \n",
       "\n",
       "        dTorsional_Clash  dBackbone_Clash  dHelix_Dipole  dWater_Bridge  \\\n",
       "Total                823              823            823            823   \n",
       "Unique               704              583            478              1   \n",
       "\n",
       "        dDisulfide  dElectrostatic_kon  dPartial_Covalent_Bonds  \\\n",
       "Total          823                 823                      823   \n",
       "Unique          13                   1                        1   \n",
       "\n",
       "        dIonization_Energy  dEntropy_Complex  \n",
       "Total                  823               823  \n",
       "Unique                 194                 1  \n",
       "\n",
       "[2 rows x 48 columns]"
      ]
     },
     "execution_count": 17,
     "metadata": {},
     "output_type": "execute_result"
    }
   ],
   "source": [
    "#Printing count of unique values in each column in the test pathogenic dataframe\n",
    "unique_col_vals(mTestPathogenic_df)"
   ]
  },
  {
   "cell_type": "code",
   "execution_count": 18,
   "id": "37b5014f",
   "metadata": {},
   "outputs": [
    {
     "data": {
      "text/html": [
       "<div>\n",
       "<style scoped>\n",
       "    .dataframe tbody tr th:only-of-type {\n",
       "        vertical-align: middle;\n",
       "    }\n",
       "\n",
       "    .dataframe tbody tr th {\n",
       "        vertical-align: top;\n",
       "    }\n",
       "\n",
       "    .dataframe thead th {\n",
       "        text-align: right;\n",
       "    }\n",
       "</style>\n",
       "<table border=\"1\" class=\"dataframe\">\n",
       "  <thead>\n",
       "    <tr style=\"text-align: right;\">\n",
       "      <th></th>\n",
       "      <th>Pdb</th>\n",
       "      <th>Total_energy</th>\n",
       "      <th>Backbone_Hbond</th>\n",
       "      <th>Sidechain_Hbond</th>\n",
       "      <th>Van_der_Waals</th>\n",
       "      <th>Electrostatics</th>\n",
       "      <th>Solvation_Polar</th>\n",
       "      <th>Solvation_Hydrophobic</th>\n",
       "      <th>Van_der_Waals_clashes</th>\n",
       "      <th>Entropy_sidechain</th>\n",
       "      <th>...</th>\n",
       "      <th>dCis_Bond</th>\n",
       "      <th>dTorsional_Clash</th>\n",
       "      <th>dBackbone_Clash</th>\n",
       "      <th>dHelix_Dipole</th>\n",
       "      <th>dWater_Bridge</th>\n",
       "      <th>dDisulfide</th>\n",
       "      <th>dElectrostatic_kon</th>\n",
       "      <th>dPartial_Covalent_Bonds</th>\n",
       "      <th>dIonization_Energy</th>\n",
       "      <th>dEntropy_Complex</th>\n",
       "    </tr>\n",
       "  </thead>\n",
       "  <tbody>\n",
       "    <tr>\n",
       "      <th>Total</th>\n",
       "      <td>2225</td>\n",
       "      <td>2225</td>\n",
       "      <td>2225</td>\n",
       "      <td>2225</td>\n",
       "      <td>2225</td>\n",
       "      <td>2225</td>\n",
       "      <td>2225</td>\n",
       "      <td>2225</td>\n",
       "      <td>2225</td>\n",
       "      <td>2225</td>\n",
       "      <td>...</td>\n",
       "      <td>2225</td>\n",
       "      <td>2225</td>\n",
       "      <td>2225</td>\n",
       "      <td>2225</td>\n",
       "      <td>2225</td>\n",
       "      <td>2225</td>\n",
       "      <td>2225</td>\n",
       "      <td>2225</td>\n",
       "      <td>2225</td>\n",
       "      <td>2225</td>\n",
       "    </tr>\n",
       "    <tr>\n",
       "      <th>Unique</th>\n",
       "      <td>2225</td>\n",
       "      <td>2210</td>\n",
       "      <td>1874</td>\n",
       "      <td>1809</td>\n",
       "      <td>2163</td>\n",
       "      <td>1797</td>\n",
       "      <td>2159</td>\n",
       "      <td>2176</td>\n",
       "      <td>2024</td>\n",
       "      <td>2206</td>\n",
       "      <td>...</td>\n",
       "      <td>279</td>\n",
       "      <td>1309</td>\n",
       "      <td>687</td>\n",
       "      <td>631</td>\n",
       "      <td>1</td>\n",
       "      <td>8</td>\n",
       "      <td>1</td>\n",
       "      <td>1</td>\n",
       "      <td>220</td>\n",
       "      <td>1</td>\n",
       "    </tr>\n",
       "  </tbody>\n",
       "</table>\n",
       "<p>2 rows × 48 columns</p>\n",
       "</div>"
      ],
      "text/plain": [
       "         Pdb  Total_energy  Backbone_Hbond  Sidechain_Hbond  Van_der_Waals  \\\n",
       "Total   2225          2225            2225             2225           2225   \n",
       "Unique  2225          2210            1874             1809           2163   \n",
       "\n",
       "        Electrostatics  Solvation_Polar  Solvation_Hydrophobic  \\\n",
       "Total             2225             2225                   2225   \n",
       "Unique            1797             2159                   2176   \n",
       "\n",
       "        Van_der_Waals_clashes  Entropy_sidechain  ...  dCis_Bond  \\\n",
       "Total                    2225               2225  ...       2225   \n",
       "Unique                   2024               2206  ...        279   \n",
       "\n",
       "        dTorsional_Clash  dBackbone_Clash  dHelix_Dipole  dWater_Bridge  \\\n",
       "Total               2225             2225           2225           2225   \n",
       "Unique              1309              687            631              1   \n",
       "\n",
       "        dDisulfide  dElectrostatic_kon  dPartial_Covalent_Bonds  \\\n",
       "Total         2225                2225                     2225   \n",
       "Unique           8                   1                        1   \n",
       "\n",
       "        dIonization_Energy  dEntropy_Complex  \n",
       "Total                 2225              2225  \n",
       "Unique                 220                 1  \n",
       "\n",
       "[2 rows x 48 columns]"
      ]
     },
     "execution_count": 18,
     "metadata": {},
     "output_type": "execute_result"
    }
   ],
   "source": [
    "#Printing count of unique values in each column in the test benign dataframe\n",
    "unique_col_vals(mTestBenign_df)"
   ]
  },
  {
   "cell_type": "code",
   "execution_count": 19,
   "id": "0bfb90c3",
   "metadata": {},
   "outputs": [],
   "source": [
    "#Defining a function to identify columns with a single unique count\n",
    "def show_single_uniq_col(df):\n",
    "    single_uniq_col = [col for col in df.columns if df[col].nunique() in (1,2,3,4)]\n",
    "    return single_uniq_col"
   ]
  },
  {
   "cell_type": "code",
   "execution_count": 20,
   "id": "58c678ec",
   "metadata": {},
   "outputs": [
    {
     "data": {
      "text/plain": [
       "['sloop_entropy',\n",
       " 'mloop_entropy',\n",
       " 'Water_bridge',\n",
       " 'Electrostatic_kon',\n",
       " 'Partial_covalent_bonds',\n",
       " 'Entropy_Complex',\n",
       " 'Class',\n",
       " 'dShort_Loop_Entropy',\n",
       " 'dMedium_Loop_Entropy',\n",
       " 'dWater_Bridge',\n",
       " 'dElectrostatic_kon',\n",
       " 'dPartial_Covalent_Bonds',\n",
       " 'dEntropy_Complex']"
      ]
     },
     "execution_count": 20,
     "metadata": {},
     "output_type": "execute_result"
    }
   ],
   "source": [
    "#Printing columns with single unique count in train benign dataframe\n",
    "show_single_uniq_col(mTrainBenign_df)"
   ]
  },
  {
   "cell_type": "code",
   "execution_count": 21,
   "id": "e37be149",
   "metadata": {},
   "outputs": [
    {
     "data": {
      "text/plain": [
       "['sloop_entropy',\n",
       " 'mloop_entropy',\n",
       " 'Water_bridge',\n",
       " 'Electrostatic_kon',\n",
       " 'Partial_covalent_bonds',\n",
       " 'Entropy_Complex',\n",
       " 'Class',\n",
       " 'dShort_Loop_Entropy',\n",
       " 'dMedium_Loop_Entropy',\n",
       " 'dWater_Bridge',\n",
       " 'dElectrostatic_kon',\n",
       " 'dPartial_Covalent_Bonds',\n",
       " 'dEntropy_Complex']"
      ]
     },
     "execution_count": 21,
     "metadata": {},
     "output_type": "execute_result"
    }
   ],
   "source": [
    "#Printing columns with single unique count in train pathogenic dataframe\n",
    "show_single_uniq_col(mTrainPathogenic_df)"
   ]
  },
  {
   "cell_type": "code",
   "execution_count": 22,
   "id": "b50b4b1b",
   "metadata": {},
   "outputs": [
    {
     "data": {
      "text/plain": [
       "['sloop_entropy',\n",
       " 'mloop_entropy',\n",
       " 'Water_bridge',\n",
       " 'Electrostatic_kon',\n",
       " 'Partial_covalent_bonds',\n",
       " 'Entropy_Complex',\n",
       " 'Class',\n",
       " 'dShort_Loop_Entropy',\n",
       " 'dMedium_Loop_Entropy',\n",
       " 'dWater_Bridge',\n",
       " 'dElectrostatic_kon',\n",
       " 'dPartial_Covalent_Bonds',\n",
       " 'dEntropy_Complex']"
      ]
     },
     "execution_count": 22,
     "metadata": {},
     "output_type": "execute_result"
    }
   ],
   "source": [
    "#Printing columns with single unique count in test pathogenic dataframe\n",
    "show_single_uniq_col(mTestPathogenic_df)"
   ]
  },
  {
   "cell_type": "code",
   "execution_count": 23,
   "id": "97d03e9e",
   "metadata": {},
   "outputs": [
    {
     "data": {
      "text/plain": [
       "['sloop_entropy',\n",
       " 'mloop_entropy',\n",
       " 'Water_bridge',\n",
       " 'Electrostatic_kon',\n",
       " 'Partial_covalent_bonds',\n",
       " 'Entropy_Complex',\n",
       " 'Class',\n",
       " 'dShort_Loop_Entropy',\n",
       " 'dMedium_Loop_Entropy',\n",
       " 'dWater_Bridge',\n",
       " 'dElectrostatic_kon',\n",
       " 'dPartial_Covalent_Bonds',\n",
       " 'dEntropy_Complex']"
      ]
     },
     "execution_count": 23,
     "metadata": {},
     "output_type": "execute_result"
    }
   ],
   "source": [
    "#Printing columns with single unique count in test benign dataframe\n",
    "show_single_uniq_col(mTestBenign_df)"
   ]
  },
  {
   "cell_type": "code",
   "execution_count": 24,
   "id": "83e5399b",
   "metadata": {},
   "outputs": [],
   "source": [
    "#Defining a list of all columns with a single unique value. Add Pdb, Mutation and Variant columns since they have no relevance in downstream analysis\n",
    "col_to_drop = [\n",
    " 'Pdb', \n",
    " 'Mutation', \n",
    " 'Variant',\n",
    " 'sloop_entropy',\n",
    " 'mloop_entropy',\n",
    " 'Water_bridge',\n",
    " 'Electrostatic_kon',\n",
    " 'Partial_covalent_bonds',\n",
    " 'Entropy_Complex',\n",
    " 'dShort_Loop_Entropy',\n",
    " 'dMedium_Loop_Entropy',\n",
    " 'dWater_Bridge',\n",
    " 'dElectrostatic_kon',\n",
    " 'dPartial_Covalent_Bonds',\n",
    " 'dEntropy_Complex'\n",
    "]"
   ]
  },
  {
   "cell_type": "code",
   "execution_count": 25,
   "id": "e076b680",
   "metadata": {},
   "outputs": [],
   "source": [
    "#Dropping the defined columns \n",
    "mTrainBenign_df = mTrainBenign_df.drop(columns=col_to_drop)\n",
    "mTrainPathogenic_df = mTrainPathogenic_df.drop(columns=col_to_drop)\n",
    "mTestBenign_df = mTestBenign_df.drop(columns=col_to_drop)\n",
    "mTestPathogenic_df = mTestPathogenic_df.drop(columns=col_to_drop)"
   ]
  },
  {
   "cell_type": "code",
   "execution_count": 26,
   "id": "b5b599d9",
   "metadata": {},
   "outputs": [],
   "source": [
    "train_dtframes = [mTrainBenign_df, mTrainPathogenic_df] #Merging the two categories of train dataframe\n",
    "test_dtframes = [mTestBenign_df, mTestPathogenic_df] #Merging the two categories of test dataframe\n",
    "\n",
    "#Merge and shuffle the data. Reset index after shuffling to ensure clean indices \n",
    "train_df = pd.concat(train_dtframes).sample(frac=1).reset_index(drop=True)\n",
    "test_df = pd.concat(test_dtframes).sample(frac=1).reset_index(drop=True)"
   ]
  },
  {
   "cell_type": "code",
   "execution_count": 27,
   "id": "f7e08dfe",
   "metadata": {},
   "outputs": [
    {
     "data": {
      "text/plain": [
       "Benign        8497\n",
       "Pathogenic    4964\n",
       "Name: Class, dtype: int64"
      ]
     },
     "execution_count": 27,
     "metadata": {},
     "output_type": "execute_result"
    }
   ],
   "source": [
    "#There are two classes in the target variable. Let's check if the class is imbalanced in the train dataset. \n",
    "#Let's do this with Random Under-Sampling technique. We want a 50/50 ratio between the two classes\n",
    "#First, let's determine the total count of the two classes and bring them to the same count\n",
    "train_df[\"Class\"].value_counts()"
   ]
  },
  {
   "cell_type": "code",
   "execution_count": 28,
   "id": "bb0bf47c",
   "metadata": {},
   "outputs": [],
   "source": [
    "#The Class Payhogenic has 4964 counts. We have to get the same representation for the Benign Class\n",
    "class_pathogenic = train_df[train_df[\"Class\"] == \"Pathogenic\"]\n",
    "class_benign = train_df[train_df[\"Class\"] == \"Benign\"][:4964]\n",
    "\n",
    "#Combine the two classes and shuffle the final rows in the dataset.\n",
    "class_merge = pd.concat([class_pathogenic, class_benign])\n",
    "final_train_df = class_merge.sample(frac=1, random_state=42).reset_index(drop=True)"
   ]
  },
  {
   "cell_type": "code",
   "execution_count": 29,
   "id": "2634b8ab",
   "metadata": {},
   "outputs": [
    {
     "data": {
      "image/png": "[encoded data removed]",
      "text/plain": [
       "<Figure size 864x504 with 2 Axes>"
      ]
     },
     "metadata": {},
     "output_type": "display_data"
    }
   ],
   "source": [
    "sns.set_style('darkgrid')\n",
    "fig, axs = plt.subplots(ncols=2, figsize=(12, 7), sharey=True)\n",
    "fig.suptitle(\"Class Distribution Before and After Undersampling\", fontsize=18, fontweight='bold')\n",
    "\n",
    "sns.countplot(x=\"Class\", data=train_df, ax=axs[0], palette=\"Set2\")\n",
    "sns.countplot(x=\"Class\", data=final_train_df, ax=axs[1], palette=\"Set2\")\n",
    "\n",
    "axs[0].set_title(\"Before Undersampling\", fontsize=16)\n",
    "axs[0].set_xlabel(\"Class Status\", fontsize=16)\n",
    "axs[0].set_ylabel(\"Count\", fontsize=16)\n",
    "axs[0].tick_params(axis='both', labelsize=16)\n",
    "\n",
    "axs[1].set_title(\"After Undersampling\", fontsize=16)\n",
    "axs[1].set_xlabel(\"Class Status\", fontsize=16)\n",
    "axs[1].set_ylabel(\"Count\", fontsize=16)\n",
    "axs[1].tick_params(axis='both', labelsize=16)\n",
    "\n",
    "sns.despine()\n",
    "plt.tight_layout()\n",
    "plt.show();"
   ]
  },
  {
   "cell_type": "code",
   "execution_count": 30,
   "id": "795f1992",
   "metadata": {},
   "outputs": [],
   "source": [
    "#List columns with negative values. \n",
    "col = [\n",
    "    'Class',\n",
    "    'Total_energy',\n",
    "    'Solvation_Polar', \n",
    "    'Van_der_Waals_clashes', \n",
    "    'Entropy_sidechain', \n",
    "    'Entropy_mainchain',\n",
    "    'cis_bond', \n",
    "    'Torsional_clash', \n",
    "    'Backbone_clash', \n",
    "    'Energy_Ionisation'\n",
    "]"
   ]
  },
  {
   "cell_type": "code",
   "execution_count": 31,
   "id": "4b4d865f",
   "metadata": {},
   "outputs": [],
   "source": [
    "#Call the abs() function on all columns with negative values\n",
    "train_dt = final_train_df.copy()\n",
    "test_dt = test_df.copy()\n",
    "\n",
    "train_dt.loc[:, ~train_dt.columns.isin(col)] = train_dt.loc[:, ~train_dt.columns.isin(col)].abs()\n",
    "test_dt.loc[:, ~test_dt.columns.isin(col)] = test_dt.loc[:, ~test_dt.columns.isin(col)].abs()"
   ]
  },
  {
   "cell_type": "markdown",
   "id": "f9af81f9",
   "metadata": {},
   "source": [
    "### Let's plot the association of some of the features with the variant pathogenicity"
   ]
  },
  {
   "cell_type": "code",
   "execution_count": 32,
   "id": "9c200957",
   "metadata": {},
   "outputs": [
    {
     "data": {
      "image/png": "[encoded data removed]",
      "text/plain": [
       "<Figure size 432x360 with 1 Axes>"
      ]
     },
     "metadata": {},
     "output_type": "display_data"
    }
   ],
   "source": [
    "#The distribution of Electrostatics between the benign and pathogenic variants (Mann-Whitney U test). \n",
    "#The violin plot depicts the distribution of the electrostatics values using density curves. \n",
    "#The boxes show the median +/- one quatile. Whiskers extend 1.5 times the inter-quartile range.\n",
    "\n",
    "# Plotting the violin plot\n",
    "sns.set_theme(style=\"whitegrid\", font_scale=1.5)\n",
    "plt.figure(figsize=(6, 5))\n",
    "\n",
    "# Create the violin plot\n",
    "sns.violinplot(\n",
    "    x=\"Class\", \n",
    "    y=\"Electrostatics\", \n",
    "    data=train_dt, \n",
    "    inner=\"box\", \n",
    "    linewidth=1.5, \n",
    "    palette={\"Benign\": \"#1f77b4\", \"Pathogenic\": \"#d62728\"}\n",
    ")\n",
    "\n",
    "# Add axis labels\n",
    "plt.xlabel(\"\", fontsize=16, labelpad=10)\n",
    "plt.ylabel(\"Electrostatics\", fontsize=16, labelpad=10)\n",
    "\n",
    "benign = train_dt[train_dt[\"Class\"] == \"Benign\"][\"Electrostatics\"]\n",
    "pathogenic = train_dt[train_dt[\"Class\"] == \"Pathogenic\"][\"Electrostatics\"]\n",
    "\n",
    "# Perform Mann-Whitney U test\n",
    "stat, p_value = mannwhitneyu(benign, pathogenic, alternative=\"two-sided\")\n",
    "\n",
    "# Add p-value annotation\n",
    "plt.text(0.5, max(train_dt[\"Electrostatics\"]) + 0.5, f\"p = {p_value:.2e}\", ha='center', fontsize=14, fontstyle='italic')\n",
    "sns.despine()\n",
    "\n",
    "# Adjust layout and save plot\n",
    "plt.tight_layout()\n",
    "plt.savefig(\"violin_plot_with_p_value.png\", dpi=300)\n",
    "plt.show()"
   ]
  },
  {
   "cell_type": "code",
   "execution_count": 33,
   "id": "c701a5df",
   "metadata": {},
   "outputs": [
    {
     "data": {
      "image/png": "[encoded data removed]",
      "text/plain": [
       "<Figure size 432x360 with 1 Axes>"
      ]
     },
     "metadata": {},
     "output_type": "display_data"
    }
   ],
   "source": [
    "#The distribution of disulfide between the benign and pathogenic variants (Mann-Whitney U test). \n",
    "#The violin plot depicts the distribution of the disulfide values using density curves. \n",
    "#The boxes show the median +/- one quatile. Whiskers extend 1.5 times the inter-quartile range.\n",
    "\n",
    "\n",
    "# Plotting the violin plot\n",
    "sns.set_theme(style=\"whitegrid\", font_scale=1.5)\n",
    "plt.figure(figsize=(6, 5))\n",
    "\n",
    "# Create the violin plot\n",
    "sns.violinplot(\n",
    "    x=\"Class\", \n",
    "    y=\"Disulfide\", \n",
    "    data=train_dt, \n",
    "    inner=\"box\", \n",
    "    linewidth=1.5, \n",
    "    palette={\"Benign\": \"#1f77b4\", \"Pathogenic\": \"#d62728\"}\n",
    ")\n",
    "\n",
    "# Add axis labels\n",
    "plt.xlabel(\"\", fontsize=16, labelpad=10)\n",
    "plt.ylabel(\"Disulfide\", fontsize=16, labelpad=10)\n",
    "\n",
    "benign = train_dt[train_dt[\"Class\"] == \"Benign\"][\"Disulfide\"]\n",
    "pathogenic = train_dt[train_dt[\"Class\"] == \"Pathogenic\"][\"Disulfide\"]\n",
    "\n",
    "# Perform Mann-Whitney U test\n",
    "stat, p_value = mannwhitneyu(benign, pathogenic, alternative=\"two-sided\")\n",
    "\n",
    "# Add p-value annotation\n",
    "plt.text(0.5, max(train_dt[\"Disulfide\"]) + 0.5, f\"p = {p_value:.2e}\", ha='center', fontsize=14, fontstyle='italic')\n",
    "sns.despine()\n",
    "\n",
    "# Adjust layout and save plot\n",
    "plt.tight_layout()\n",
    "plt.show()"
   ]
  },
  {
   "cell_type": "code",
   "execution_count": 34,
   "id": "4be55624",
   "metadata": {},
   "outputs": [
    {
     "data": {
      "image/png": "[encoded data removed]",
      "text/plain": [
       "<Figure size 432x360 with 1 Axes>"
      ]
     },
     "metadata": {},
     "output_type": "display_data"
    }
   ],
   "source": [
    "#The differences of total energy change between the benign and pathogenic variants (Mann-Whitney U test). \n",
    "#The violin plot depicts the distribution of the disulfide values using density curves. \n",
    "#The boxes show the median +/- one quatile. Whiskers extend 1.5 times the inter-quartile range.\n",
    "\n",
    "# Plotting the violin plot\n",
    "sns.set_theme(style=\"whitegrid\", font_scale=1.5)\n",
    "plt.figure(figsize=(6, 5))\n",
    "\n",
    "# Create the violin plot\n",
    "sns.violinplot(\n",
    "    x=\"Class\", \n",
    "    y=\"dTotal_Energy\", \n",
    "    data=train_dt, \n",
    "    inner=\"box\", \n",
    "    linewidth=1.5, \n",
    "    palette={\"Benign\": \"#1f77b4\", \"Pathogenic\": \"#d62728\"}\n",
    ")\n",
    "\n",
    "# Add axis labels\n",
    "plt.xlabel(\"\", fontsize=16, labelpad=10)\n",
    "plt.ylabel(r\"$\\Delta \\Delta G$\", fontsize=16, labelpad=10)\n",
    "\n",
    "benign = train_dt[train_dt[\"Class\"] == \"Benign\"][\"dTotal_Energy\"]\n",
    "pathogenic = train_dt[train_dt[\"Class\"] == \"Pathogenic\"][\"dTotal_Energy\"]\n",
    "\n",
    "# Perform Mann-Whitney U test\n",
    "stat, p_value = mannwhitneyu(benign, pathogenic, alternative=\"two-sided\")\n",
    "\n",
    "# Add p-value annotation\n",
    "plt.text(0.5, max(train_dt[\"dTotal_Energy\"]) + 0.5, f\"p = {p_value:.2e}\", ha='center', fontsize=14, fontstyle='italic')\n",
    "sns.despine()\n",
    "\n",
    "# Adjust layout and save plot\n",
    "plt.tight_layout()\n",
    "plt.show()"
   ]
  },
  {
   "cell_type": "code",
   "execution_count": 35,
   "id": "4daa0bda",
   "metadata": {},
   "outputs": [
    {
     "data": {
      "image/png": "[encoded data removed]",
      "text/plain": [
       "<Figure size 432x432 with 1 Axes>"
      ]
     },
     "metadata": {},
     "output_type": "display_data"
    }
   ],
   "source": [
    "#The differences of Van der Waals interactions between the benign and pathogenic variants (Mann-Whitney U test). \n",
    "#The violin plot depicts the distribution of the disulfide values using density curves. \n",
    "#The boxes show the median +/- one quatile. Whiskers extend 1.5 times the inter-quartile range.\n",
    "\n",
    "# Plotting the violin plot\n",
    "sns.set_theme(style=\"whitegrid\", font_scale=1.5)\n",
    "plt.figure(figsize=(6, 6))\n",
    "\n",
    "# Create the violin plot\n",
    "sns.violinplot(\n",
    "    x=\"Class\", \n",
    "    y=\"dVan_der_Waals\", \n",
    "    data=train_dt, \n",
    "    inner=\"box\", \n",
    "    linewidth=1.5, \n",
    "    palette={\"Benign\": \"#1f77b4\", \"Pathogenic\": \"#d62728\"}\n",
    ")\n",
    "\n",
    "# Add axis labels\n",
    "plt.xlabel(\"\", fontsize=16, labelpad=10)\n",
    "plt.ylabel(r\"$\\Delta Van der Waals$\", fontsize=16, labelpad=10)\n",
    "\n",
    "benign = train_dt[train_dt[\"Class\"] == \"Benign\"][\"dVan_der_Waals\"]\n",
    "pathogenic = train_dt[train_dt[\"Class\"] == \"Pathogenic\"][\"dVan_der_Waals\"]\n",
    "\n",
    "# Perform Mann-Whitney U test\n",
    "stat, p_value = mannwhitneyu(benign, pathogenic, alternative=\"two-sided\")\n",
    "\n",
    "# Add p-value annotation\n",
    "plt.text(0.5, max(train_dt[\"dVan_der_Waals\"]) + 0.5, f\"p = {p_value:.2e}\", ha='center', fontsize=14, fontstyle='italic')\n",
    "sns.despine()\n",
    "\n",
    "# Adjust layout and save plot\n",
    "plt.tight_layout()\n",
    "plt.show()"
   ]
  },
  {
   "cell_type": "code",
   "execution_count": null,
   "id": "07ac1097",
   "metadata": {},
   "outputs": [],
   "source": []
  }
 ],
 "metadata": {
  "kernelspec": {
   "display_name": "Python 3",
   "language": "python",
   "name": "python3"
  },
  "language_info": {
   "codemirror_mode": {
    "name": "ipython",
    "version": 3
   },
   "file_extension": ".py",
   "mimetype": "text/x-python",
   "name": "python",
   "nbconvert_exporter": "python",
   "pygments_lexer": "ipython3",
   "version": "3.8.8"
  }
 },
 "nbformat": 4,
 "nbformat_minor": 5
}
